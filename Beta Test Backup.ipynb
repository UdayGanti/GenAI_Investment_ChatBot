{
 "cells": [
  {
   "cell_type": "markdown",
   "id": "22e17919",
   "metadata": {},
   "source": [
    "# Scraping Code"
   ]
  },
  {
   "cell_type": "code",
   "execution_count": 1,
   "id": "4fc93d92",
   "metadata": {},
   "outputs": [],
   "source": [
    "import requests\n",
    "from bs4 import BeautifulSoup\n",
    "import os\n",
    "\n",
    "def scrape_links_and_texts():\n",
    "    # Get user input for the keyword and construct the URL\n",
    "    keyword = input(\"Enter a keyword to search: \")\n",
    "    url = f\"https://www.benzinga.com/search?q={keyword}\"\n",
    "\n",
    "    try:\n",
    "        # Send a GET request to the URL\n",
    "        response = requests.get(url)\n",
    "\n",
    "        # Check if the request was successful (status code 200)\n",
    "        if response.status_code == 200:\n",
    "            # Parse the HTML content of the page\n",
    "            soup = BeautifulSoup(response.content, 'html.parser')\n",
    "\n",
    "            # Find the container with the specified class\n",
    "            container = soup.find('div', class_='content-feed-list')\n",
    "\n",
    "            # Find all links within the container\n",
    "            links = container.find_all('a')\n",
    "\n",
    "            # Create a directory to store the text files if it doesn't exist\n",
    "            if not os.path.exists('search_results_texts'):\n",
    "                os.makedirs('search_results_texts')\n",
    "            else:\n",
    "                # Delete previous text files from the folder\n",
    "                files = os.listdir('search_results_texts')\n",
    "                for file in files:\n",
    "                    os.remove(os.path.join('search_results_texts', file))\n",
    "\n",
    "            # Loop through each link\n",
    "            for link in links:\n",
    "                # Get the href attribute of the link\n",
    "                link_url = link['href']\n",
    "\n",
    "                # Send a GET request to the link URL\n",
    "                link_response = requests.get(link_url)\n",
    "\n",
    "                # Check if the request was successful (status code 200)\n",
    "                if link_response.status_code == 200:\n",
    "                    # Parse the HTML content of the link page\n",
    "                    link_soup = BeautifulSoup(link_response.content, 'html.parser')\n",
    "\n",
    "                    # Find the first h1 tag and all p tags with class \"block core-block\"\n",
    "                    h1_tag = link_soup.find('h1')\n",
    "                    p_tags = link_soup.find_all('p', class_='block core-block')\n",
    "\n",
    "                    # Get the text from the h1 tag\n",
    "                    h1_text = h1_tag.text.strip() if h1_tag else \"\"\n",
    "\n",
    "                    # Get the text from all p tags\n",
    "                    p_texts = [p.text.strip() for p in p_tags]\n",
    "\n",
    "                    # Combine h1 text and p texts\n",
    "                    combined_text = h1_text + '\\n\\n' + '\\n'.join(p_texts)\n",
    "\n",
    "                    # Write the combined text to a text file\n",
    "                    with open(f'search_results_texts/{keyword}_{links.index(link) + 1}.txt', 'w', encoding='utf-8') as file:\n",
    "                        file.write(combined_text)\n",
    "                else:\n",
    "                    print(f\"Failed to retrieve data from link: {link_url}\")\n",
    "        else:\n",
    "            print(\"Failed to retrieve search results.\")\n",
    "    except Exception as e:\n",
    "        print(f\"An error occurred: {e}\")"
   ]
  },
  {
   "cell_type": "code",
   "execution_count": 2,
   "id": "4826b74c",
   "metadata": {},
   "outputs": [
    {
     "name": "stdout",
     "output_type": "stream",
     "text": [
      "Enter a keyword to search: Artificial Intelligence\n"
     ]
    }
   ],
   "source": [
    "# Call the function to initiate the process\n",
    "scrape_links_and_texts()"
   ]
  },
  {
   "cell_type": "markdown",
   "id": "caeb219c",
   "metadata": {},
   "source": [
    "# Vectorization Code"
   ]
  },
  {
   "cell_type": "code",
   "execution_count": 3,
   "id": "870e2a2a",
   "metadata": {},
   "outputs": [
    {
     "name": "stderr",
     "output_type": "stream",
     "text": [
      "C:\\Users\\Uday Ganti\\anaconda3\\lib\\site-packages\\pinecone\\index.py:4: TqdmExperimentalWarning: Using `tqdm.autonotebook.tqdm` in notebook mode. Use `tqdm.tqdm` instead to force console mode (e.g. in jupyter console)\n",
      "  from tqdm.autonotebook import tqdm\n",
      "C:\\Users\\Uday Ganti\\anaconda3\\lib\\site-packages\\langchain\\vectorstores\\pinecone.py:59: UserWarning: Passing in `embedding` as a Callable is deprecated. Please pass in an Embeddings object instead.\n",
      "  warnings.warn(\n"
     ]
    },
    {
     "name": "stdout",
     "output_type": "stream",
     "text": [
      "Processing document: Artificial Intelligence_1.txt\n",
      "Processing document: Artificial Intelligence_10.txt\n",
      "Processing document: Artificial Intelligence_11.txt\n",
      "Processing document: Artificial Intelligence_12.txt\n",
      "Processing document: Artificial Intelligence_13.txt\n",
      "Processing document: Artificial Intelligence_14.txt\n",
      "Processing document: Artificial Intelligence_15.txt\n",
      "Processing document: Artificial Intelligence_16.txt\n",
      "Processing document: Artificial Intelligence_17.txt\n",
      "Processing document: Artificial Intelligence_18.txt\n",
      "Processing document: Artificial Intelligence_19.txt\n",
      "Processing document: Artificial Intelligence_2.txt\n",
      "Processing document: Artificial Intelligence_20.txt\n",
      "Processing document: Artificial Intelligence_3.txt\n",
      "Processing document: Artificial Intelligence_4.txt\n",
      "Processing document: Artificial Intelligence_5.txt\n",
      "Processing document: Artificial Intelligence_6.txt\n",
      "Processing document: Artificial Intelligence_7.txt\n",
      "Processing document: Artificial Intelligence_8.txt\n",
      "Processing document: Artificial Intelligence_9.txt\n"
     ]
    }
   ],
   "source": [
    "import time\n",
    "import pandas as pd\n",
    "import pinecone\n",
    "from langchain.vectorstores import Pinecone\n",
    "from langchain.embeddings import OpenAIEmbeddings\n",
    "from dotenv import load_dotenv, find_dotenv\n",
    "from langchain.text_splitter import RecursiveCharacterTextSplitter\n",
    "\n",
    "\n",
    "load_dotenv(find_dotenv())\n",
    "\n",
    "\n",
    "OPENAI_API_KEY = os.getenv(\"OPENAI_API_KEY\")\n",
    "PINECONE_API_KEY = os.getenv(\"PINECONE_API_KEY\")\n",
    "PINECONE_INDEX_NAME = os.getenv(\"PINECONE_INDEX_NAME\")\n",
    "PINECONE_ENVIRONMENT = os.getenv(\"PINECONE_ENVIRONMENT\")\n",
    "\n",
    "\n",
    "pinecone.init(\n",
    "    api_key=os.getenv('PINECONE_API_KEY'),  \n",
    "    environment=os.getenv('PINECONE_ENV')  \n",
    ")\n",
    "\n",
    "if PINECONE_INDEX_NAME not in pinecone.list_indexes():\n",
    "    pinecone.create_index(\n",
    "        PINECONE_INDEX_NAME,\n",
    "        dimension=1536,\n",
    "        metric='cosine'\n",
    "    )\n",
    "    # wait for index to finish initialization\n",
    "    while not pinecone.describe_index(PINECONE_INDEX_NAME).status['ready']:\n",
    "        time.sleep(1)\n",
    "\n",
    "index = pinecone.Index(PINECONE_INDEX_NAME)\n",
    "\n",
    "pinecone.delete_index(\"langchain-index\")        \n",
    "        \n",
    "pinecone.create_index(\"langchain-index\", dimension=1536) \n",
    "\n",
    "index_name = \"langchain-index\"\n",
    "\n",
    "embeddings = OpenAIEmbeddings(deployment=\"text-embedding-ada-002\") #EXPENSIVE - - - USE CAREFULLY\n",
    "\n",
    "text_field = \"text\"  # the metadata field that contains our text\n",
    "\n",
    "# Initialize the vector store object\n",
    "vectorstore = Pinecone(\n",
    "    index, embeddings.embed_query, text_field\n",
    ")\n",
    "\n",
    "class Document:\n",
    "    def __init__(self, page_content, metadata):\n",
    "        self.page_content = page_content\n",
    "        self.metadata = metadata\n",
    "\n",
    "    def __repr__(self):\n",
    "        return f\"Document(page_content='{self.page_content}', metadata={self.metadata})\"\n",
    "\n",
    "\n",
    "# Define a simple text splitting function\n",
    "def split_text(text, chunk_size=1000):\n",
    "    chunks = []\n",
    "    for i in range(0, len(text), chunk_size):\n",
    "        chunk = text[i:i+chunk_size]\n",
    "        chunks.append(chunk)\n",
    "    return chunks    \n",
    "\n",
    "\n",
    "text_folder_path = \"./search_results_texts\"\n",
    "\n",
    "# Get a list of all .txt files in the specified folder\n",
    "txt_files = [f for f in os.listdir(text_folder_path) if f.endswith('.txt')]\n",
    "\n",
    "# Read the contents of each file and store in a list of Documents\n",
    "documents_list = []\n",
    "for file in txt_files:\n",
    "    with open(os.path.join(text_folder_path, file), 'r', encoding='utf-8') as f:\n",
    "        content = f.read()\n",
    "        # Create a Document instance with the file content and metadata\n",
    "        document = Document(page_content=content, metadata={'text': content})\n",
    "        print(f\"Processing document: {file}\")\n",
    "        # Vectorize the document using Pinecone\n",
    "        try:\n",
    "            search = Pinecone.from_documents([document], embeddings, index_name=index_name)\n",
    "        except Exception as e:\n",
    "            print(f\"Error processing document {file}: {e}\")\n",
    "\n",
    "for i in range(len(documents_list)):\n",
    "    try:\n",
    "        document = documents_list[i]\n",
    "        print(f\"Processing document {i + 1}\")\n",
    "\n",
    "        # Split the document into chunks using the split_text function\n",
    "        chunks = split_text(document.page_content)\n",
    "\n",
    "        for chunk in chunks:\n",
    "            chunk_document = Document(page_content=chunk, metadata={'text': chunk})\n",
    "            # Vectorize the chunk using Pinecone\n",
    "            search = Pinecone.from_documents([chunk_document], embeddings, index_name=index_name)\n",
    "\n",
    "    except Exception as e:\n",
    "        print(f\"Error processing document {i + 1}: {e}\")"
   ]
  },
  {
   "cell_type": "code",
   "execution_count": 4,
   "id": "156676e9",
   "metadata": {
    "scrolled": true
   },
   "outputs": [
    {
     "data": {
      "text/plain": [
       "{'dimension': 1536,\n",
       " 'index_fullness': 0.0002,\n",
       " 'namespaces': {'': {'vector_count': 20}},\n",
       " 'total_vector_count': 20}"
      ]
     },
     "execution_count": 4,
     "metadata": {},
     "output_type": "execute_result"
    }
   ],
   "source": [
    "index.describe_index_stats()"
   ]
  },
  {
   "cell_type": "markdown",
   "id": "badd065c",
   "metadata": {},
   "source": [
    "# ChatBot Code"
   ]
  },
  {
   "cell_type": "code",
   "execution_count": 5,
   "id": "943b1a2c",
   "metadata": {},
   "outputs": [],
   "source": [
    "os.environ['PROTOCOL_BUFFERS_PYTHON_IMPLEMENTATION'] = 'python'\n",
    "\n",
    "from langchain.chat_models import ChatOpenAI\n",
    "from langchain.schema import (\n",
    "    SystemMessage,\n",
    "    HumanMessage,\n",
    "    AIMessage\n",
    ")\n",
    "\n",
    "chat = ChatOpenAI(\n",
    "    openai_api_key= OPENAI_API_KEY,\n",
    "    model='gpt-3.5-turbo'\n",
    ")"
   ]
  },
  {
   "cell_type": "code",
   "execution_count": 21,
   "id": "7821c826",
   "metadata": {},
   "outputs": [],
   "source": [
    "messages = [\n",
    "    SystemMessage(content=\"\"\"You are a seasoned financial advisor specializing in providing personalized investment advice to clients. Begin by introducing yourself as a trusted advisor committed to helping clients achieve their financial goals through strategic investment decisions.\n",
    "\n",
    "Based on the client's prompt, propose a specific investment strategy or portfolio allocation that aligns with their goals and risk profile based on the context provided. Suggest diversification across asset classes such as stocks, bonds, and alternative investments, emphasizing the importance of a balanced approach.\n",
    "\n",
    "Invite the client to ask questions or express any concerns they may have about the proposed investment strategy. Encourage them to share their thoughts on asset allocation, investment selection, and portfolio rebalancing. Wait for their feedback before providing further guidance.\n",
    "\n",
    "Offer detailed explanations of the investment products or vehicles recommended within the proposed strategy, highlighting their features, benefits, and potential risks. Provide examples of specific securities or funds that fit the client's investment criteria, demonstrating how each contributes to their overall portfolio objectives.\n",
    "\n",
    "Encourage the client to review their current investment holdings and consider any adjustments or optimizations based on the proposed strategy. Discuss the importance of regular portfolio monitoring and ongoing communication to ensure alignment with their long-term financial goals.\n",
    "\n",
    "Address any questions or concerns raised by the client with patience and clarity, prioritizing their understanding and confidence in the recommended investment approach. Offer additional resources or educational materials to support their learning and decision-making process.\n",
    "\n",
    "Conclude the consultation by summarizing the key points discussed and confirming the client's understanding of the proposed investment strategy. Express your commitment to their financial success and offer to schedule a follow-up meeting to review progress and make any necessary adjustments.\n",
    "\n",
    "Throughout the interaction, maintain a proactive and client-centric approach, focusing on building trust and rapport while providing valuable insights and guidance tailored to the client's individual needs and circumstances.\n",
    "\n",
    "If you don't have information about what is being asked in the quesr, simply ask the user to change the 'inital keyword' for a better response. \n",
    "\n",
    "PLEASE MAKE SURE THE ANSWER YOU PROVIDE IS PRESENTED IN BULLET POINTS.\n",
    "\n",
    "\"\"\"),\n",
    "]"
   ]
  },
  {
   "cell_type": "code",
   "execution_count": 22,
   "id": "59431c79",
   "metadata": {},
   "outputs": [],
   "source": [
    "index_list = pinecone.list_indexes()\n",
    "\n",
    "from langchain.embeddings.openai import OpenAIEmbeddings\n",
    "\n",
    "embed_model = OpenAIEmbeddings(model=\"text-embedding-ada-002\")"
   ]
  },
  {
   "cell_type": "code",
   "execution_count": 23,
   "id": "0d03bd2a",
   "metadata": {},
   "outputs": [
    {
     "name": "stderr",
     "output_type": "stream",
     "text": [
      "C:\\Users\\Uday Ganti\\anaconda3\\lib\\site-packages\\langchain\\vectorstores\\pinecone.py:59: UserWarning: Passing in `embedding` as a Callable is deprecated. Please pass in an Embeddings object instead.\n",
      "  warnings.warn(\n"
     ]
    }
   ],
   "source": [
    "from langchain.vectorstores import Pinecone\n",
    "\n",
    "text_field = \"text\"  # the metadata field that contains our text\n",
    "\n",
    "# initialize the vector store object\n",
    "vectorstore = Pinecone(\n",
    "    index, embed_model.embed_query, text_field\n",
    ")\n",
    "\n",
    "def augment_prompt(query: str):\n",
    "    # get top 3 results from knowledge base\n",
    "    results = vectorstore.similarity_search(query, k=3)\n",
    "    # get the text from the results\n",
    "    source_knowledge = \"\\n\".join([x.page_content for x in results])\n",
    "    # feed into an augmented prompt\n",
    "    augmented_prompt = f\"\"\"Using the contexts below, answer the query.\n",
    "\n",
    "    Contexts:\n",
    "    {source_knowledge}\n",
    "\n",
    "    Query: {query}\"\"\"\n",
    "    return augmented_prompt"
   ]
  },
  {
   "cell_type": "code",
   "execution_count": 24,
   "id": "5c708a86",
   "metadata": {
    "scrolled": true
   },
   "outputs": [
    {
     "data": {
      "text/plain": [
       "[Document(page_content='The Nvidia Chart Shows The Importance Of Earnings From Tesla, Meta, Microsoft, And Alphabet\\n\\nTo gain an edge, this is what you need to know today.\\nPlease click here for an enlarged chart of NVIDIA Corp NVDA.\\nNote the following:\\nIn the early trade, money flows are positive in Apple Inc AAPL, Amazon.com, Inc. AMZN, GOOG, META, and NVDA.\\nIn the early trade, money flows are neutral in MSFT.\\nIn the early trade, money flows are negative in TSLA.\\nIn the early trade, money flows are positive in SPDR S&P 500 ETF Trust SPY and Invesco QQQ Trust Series 1 QQQ.\\nThe momo crowd is aggressively buying stocks in the early trade.\\xa0Smart money is inactive in the early trade.\\nThe momo crowd is selling gold in the early trade.\\xa0Smart money is inactive in the early trade.\\nFor longer-term, please see gold and silver ratings.\\nThe most popular ETF for gold is SPDR Gold Trust GLD.\\xa0The most popular ETF for silver is iShares Silver Trust SLV.\\nThe momo crowd is selling oil in the early trade.\\xa0Smart money is inactive in the early trade.\\nFor longer-term, please see oil ratings.\\nThe most popular ETF for oil is United States Oil ETF USO.\\nBitcoin BTC/USD is being bought as the fourth halving has now occurred.\\xa0There is disappointment among bulls because buying so far is not as strong as they had expected.\\nIt is important for investors to look ahead and not in the rearview mirror.\\nBased on individual risk preference, consider a protection band consisting of cash or Treasury bills or short-term tactical trades as well as short to medium term hedges and short term hedges. This is a good way to protect yourself and participate in the upside at the same time.\\nYou can determine your protection bands by adding cash to hedges.\\xa0 The high band of the protection is appropriate for those who are older or conservative. The low band of the protection is appropriate for those who are younger or aggressive.\\xa0 If you do not hedge, the total cash level should be more than stated above but significantly less than cash plus hedges.\\nIt is worth reminding that you cannot take advantage of new upcoming opportunities if you are not holding enough cash.\\xa0 When adjusting hedge levels, consider adjusting partial stop quantities for stock positions (non ETF); consider using wider stops on remaining quantities and also allowing more room for high beta stocks.\\xa0 High beta stocks are the ones that move more than the market.\\nProbability based risk reward adjusted for inflation does not favor long duration strategic bond allocation at this time.\\nThose who want to stick to traditional 60% allocation to stocks and 40% to bonds may consider focusing on only high quality bonds and bonds of seven year duration or less.\\xa0Those willing to bring sophistication to their investing may consider using bond ETFs as tactical positions and not strategic positions at this time.\\nThe Arora Report is known for its accurate calls. The Arora Report correctly called the big artificial intelligence rally before anyone else, the new bull market of 2023, the bear market of 2022, new stock market highs right after the virus low in 2020, the virus drop in 2020, the DJIA rally to 30,000 when it was trading at 16,000, the start of a mega bull market in 2009, and the financial crash of 2008. Please click here to sign up for a free forever Generate Wealth Newsletter.'),\n",
       " Document(page_content=\"Benzinga Bulls And Bears: Tesla, DraftKings, Broadcom And Trader Says Buy Dogecoin In High 10 Cents If You Get A Chance\\n\\nOwn a piece of your favorite cities through diversified real estate investments in the country's top markets\\n*Terms and conditions apply. Visit Nada's website for more details.\\nBenzinga examined the prospects for many investors’ favorite stocks over the last week — here’s a look at some of our top stories.\\nBears ruled Wall Street this week as the S&P 500 endured its worst weekly drop since March 2023, falling over 3% due to rising fears around inflation and monetary policy. The Nasdaq Composite also suffered, dropping 5.5%, its worst week since November 2022 and its fourth consecutive down week, making it the longest losing streak since December 2022.\\nMeanwhile, Federal Reserve Chair Jerome Powell dismissed any immediate interest rate cuts, citing slow disinflation, while escalating geopolitical risks further dampened the outlook for tech stocks. Despite these challenges, the Dow managed a marginal gain of 0.01%, marking its first positive week in the last three.\\nBenzinga provides daily reports on the stocks most popular with investors. Here are a few of this past week’s most bullish and bearish posts that are worth another look.\\n“Canopy Growth CEO At Benzinga Conference: ‘I Don’t Think Our Investors Understand The Value That Sits Inside Of Canopy'” by Adam Eckert,\\xa0reports on CEO David Klein‘s statement at the Benzinga Cannabis Capital Conference, asserting that Canopy Growth Corp CGC is undervalued by investors, especially regarding its acquisitions like Wana and its new strategic direction under Canopy USA.\\n“Dogecoin Down 25% In Past Week, But ‘If You Get A Chance To Buy It In The High $0.10s, Buy It,’ Says Trader” by Khyathi Dalal, explores how, despite Dogecoin’s DOGE/USD 25% plunge, market influencers remain bullish, advocating for purchases during dips as they predict potential price recoveries and a strong altcoin market ahead.\\n“DraftKings Stock Has Upside To Street Estimates, Analyst Says: Sports Betting Play Will ‘Benefit From Healthy Growth'” by Chris Katje,\\xa0describes a Goldman Sachs analyst’s optimistic outlook on DraftKings Inc DKNG, projecting strong revenue growth and improved profitability due to expanding markets and enhanced unit economics.\\nFor additional bullish calls of the past week, check out the following:\\nRivian ‘Best Positioned EV OEM’: Analyst Praises Long-Term Outlook, R2 Launch, With Short-Term Caution\\nTesla’s Autonomous Driving Efforts Win Praise From Goldman Sachs: Wall Street Firm Projects Long-Term Growth From Robotaxi Services\\nHappy Bitcoin Halving Day: What Experts Predict Happens Next\\nThe Bears\\n“No More Inventory Discounts On Tesla Cars As CEO Elon Musk Says Sales System Has Turned ‘Complex And Inefficient'” by Anan Ashraf, explains Elon Musk‘s decision to discontinue Tesla Inc. TSLA inventory discounts due to inefficiencies and complexities in the sales process.\\n“Real Estate Stocks Fall As Mortgage Rates Rise To 4-Month Highs: ‘Inflation Is Proving Tougher To Bring Down'” by Piero Cingari, describes the drop in real estate stocks like Prologis, Inc. PLD and EastGroup Properties, Inc. EGP, driven by rising mortgage rates and a pessimistic outlook for housing starts and affordability.\\n“Broadcom Succumbs to EU Antitrust Investigation Over VMware Licensing, Prompting Swift Pricing Strategy Revision” by Anusuya Lahiri, reports that Broadcom Inc AVGO is adjusting VMware’s pricing in response to an EU antitrust investigation spurred by complaints about unfair licensing practices.\\nFor more bearish takes, be sure to see these posts:\\nMost S&P 500 Stocks No Longer Trade Above 50-Day Average: Healthy Pullback Or Is The Bull Market Over?\\nTreasury Yields Head To ‘Danger Zone’: Analyst Forecasts Potential Spike To 5%, Disorderly Sell-Off For Markets\\nPeter Schiff Challenges Bitcoin’s $100K Prediction As Crypto-Linked Stocks Languish In Bear Zone: ‘Sell Your Fool’s Gold And Buy The Real Thing’\\nKeep up with all the latest breaking news and trading ideas by following Benzinga on Twitter.\\nThis content was partially produced with the help of AI tools and was reviewed and published by Benzinga editors.\\nImage generated using artificial intelligence via Midjourney.\"),\n",
       " Document(page_content=\"What's Going On With Nvidia and AMD Stocks On Monday?\\n\\nNvidia Corp\\xa0NVDA and\\xa0Advanced Micro Devices, Inc\\xa0AMD stocks see some redemption on Monday after a selloff Friday.\\nLast Friday, Nvidia faced its worst session since March 2020, losing over $200 billion of its market value.\\nStocks recording windfall gains thanks to the artificial intelligence frenzy, like AMD, also lost close to 6% in stock value.\\nInvestors grew wary of the U.S. Federal Reserve’s rate cuts fueled by retaliatory strikes between Iran and Israel, the Financial Times\\xa0reports.\\nAlso Read:\\xa0Intel and AMD hit by China’s move to eliminate foreign tech, raising stakes for US chipmakers\\nNvidia’s stock price decline accounted for almost half the 0.9% fall in Wall Street’s S&P 500.\\nInterestingly,\\xa0Oppenheimer\\xa0analyst Rick Schafer noted few companies are positioned to materially raise estimates this earnings season as global macro and demand lags (exAI).\\nUnsurprisingly,\\xa0Taiwan Semiconductor Manufacturing Co\\xa0TSM and\\xa0ASML Holding NV\\xa0ASML\\xa0recently highlighted robust\\xa0demand for AI-related fab capacity and tools.\\nAccording to the analyst, cloud service provider capital expenditures will likely remain strong and trend to the high end of forecasts. Schafer’s recent Asia checks suggest >40% accelerated server growth this year.\\nAlphabet Inc\\xa0GOOG GOOGL\\xa0Google Cloud, Microsoft Corp\\xa0MSFT\\xa0Microsoft Azure, and Amazon.Com Inc\\xa0AMZN\\xa0Amazon Web Services (AWS)\\xa0feature as the top CSPs. Nvidia and AMD GPU-powered solutions are available globally through all significant CSPs.\\nAs per the analyst, Chip-on-Wafer-on-Substrate\\xa0(CoWoS) capacity will likely tighten through 2024, though Nvidia GPUs H100 and H200 lead times are now roughly half of the 2023 peak of 40-50 weeks.\\nPC and handset channel inventory is lean, with the growth tempered by lukewarm demand.\\nThe analyst stated that industrial troughs will likely occur in the second quarter, though the slope of the second-half recovery is uncertain.\\nLast, according to Schafer, Auto sales will likely soften in 2024, reflecting slowing EV adoption and excess inventory. His top picks include Nvidia.\\nData Center AI demand continues to lead. Schafer modeled ~3.2 million Nvidia flagship GPU units this year, though he noted a path to 4 million as supply loosens.\\nThe analyst flagged Nvidia’s B100 launches in the third quarter, with server ramp beginning in the fourth quarter, and AMD’s MI300 is likely 400K units this year. Schafer noted that Nvidia dominates the accelerator market.\\nPrice Actions:\\xa0NVDA shares traded higher by 2.85% at $783.72 premarket on the last check Monday. AMD shares traded higher by 0.44% at $147.29.\\nAlso Read:\\xa0Nvidia’s Data Center Dominance and AMD’s Rising Share Foretell Bullish Future: BofA Analyst\\nPhoto via Wikimedia Commons\"),\n",
       " Document(page_content=\"Nasdaq 100 Breaks 3-Day Losing Streak As Tech Stocks Rebound Ahead Of Earnings Week\\n\\nThe Nasdaq 100 index, as tracked by the Invesco QQQ Trust QQQ, ended Monday 1% higher, breaking a three-day losing streak as traders prepare for a crucial week of earnings reports from some of the tech sector’s most influential names.\\nThis week’s earnings lineup features four Magnificent Seven giants like Tesla Inc. TSLA, which will report on Tuesday, followed by Meta Platforms Inc. META on Wednesday, and both Microsoft Corp. MSFT and Alphabet Inc. GOOGL slated for Thursday.\\nPDD Holdings Inc. PDD led Monday’s rally among the Nasdaq 100 stocks by rallying over 9%, followed by Nvidia Corp. NVDA, which climbed 4.4% after experiencing a sharp 10% drop on Friday. The chip sector, represented by the VanEck Semiconductor ETF SMH showed strength, advancing 1.9% for the day.\\nLast week marked the Nasdaq 100 Index’s largest weekly drop in over 17 months, dragging the index to its longest losing streak since December 2022.\\nAlso read: ‘Apple Shot Itself In The Foot:’ Telegram Founder Says Cupertino iPhone Market Share In China Will ‘Keep Shrinking’\\nUBS Group AG's chief U.S. equity strategist Jonathan Golub has advised caution on tech stocks.\\nAs reported by Bloomberg, UBS downgraded its stance on the ‘Big 6’ technology giants—Alphabet Inc., Apple Inc. AAPL, Amazon.com Inc. AMZN, Meta Platforms Inc., Microsoft Corp., and Nvidia Corp.— from Overweight to Neutral amid slowing earnings momentum.\\nGolub suggests that the downturn in tech earnings momentum will be driven by wider cyclical challenges, not by worries about valuations or the industry's prospects in artificial intelligence.\\nRead also: Microsoft ‘In Unique Position To Scale Gen-AI Revenue,’ Goldman Sachs Says Ahead Of Q3 Earnings\\nPhoto: Shutterstock\"),\n",
       " Document(page_content='Elon Musk Reacts After Nvidia Stock Plunges 10% And Erases $212B Market Cap: \\'Rookie Numbers\\'\\n\\nTesla Inc. CEO Elon Musk ridiculed the sharp 10% decline in Nvidia Corp.\\'s NVDA stock and its subsequent $211 billion market capitalization loss on Friday.\\nWhat Happened: Musk took to X, formerly Twitter, on Friday to mock the substantial decline in Nvidia\\'s market capitalization. He referred to the 10% decline as “rookie numbers.\"\\nOn Friday, Nvidia’s stock took a significant hit, resulting in a $211 billion loss in market capitalization. This was the second-largest single-day loss in the history of the U.S. stock market.\\nSee Also: Tesla’s Autonomous Driving Efforts Win Praise From Goldman Sachs\\nOverall, the Magnificent 7 group of stocks, which includes Apple Inc., Alphabet Inc.\\'s Google, Microsoft Corp., Meta Platforms Inc., Amazon.com Inc., Tesla and Nvidia together witnessed a record $950 billion loss of market capitalization in the last week, according to MarketWatch.\\nSubscribe to the\\xa0Benzinga Tech Trends newsletter\\xa0to get all the latest tech developments delivered to your inbox.\\nWhy It Matters: The decline in Nvidia’s stock value has had a significant impact on the market.\\nThe tech-heavy Nasdaq 100 index experienced its worst day since late 2023, and the worst week since late 2022, with a 2.1% drop on Friday. This marked the fourth consecutive week of declines, a negative streak not seen since May 2022.\\nOn a weekly basis, the Nasdaq 100, which is closely tracked by the Invesco QQQ Trust QQQ, tumbled 5.3%, marking its worst performance since October 2022. The downturn on Friday further exacerbated the already pessimistic sentiment surrounding U.S. tech stocks.\\nNvidia’s stock decline was attributed to a series of events, including worse-than-expected earnings from ASML Holdings N.V. ASML and a reduced outlook for the chip market by Taiwan Semiconductor Manufacturing Company Ltd. TSM.\\nDespite the stock decline, TSM’s revenue surged 16.5% to $18.87 billion, surpassing the Street consensus estimate of $18.40 billion. This was attributed to robust demand from artificial intelligence firms.\\nOther companies in the semiconductor sector, such as Super Micro Computer, Inc. SMCI, also experienced stock declines on Friday, further adding to the overall negative sentiment in the market.\\nCheck out more of Benzinga’s Consumer Tech coverage by\\xa0following this link.\\nRead Next: Think Trading In Your iPhone Helps Keep Planet Green? Turns Out There Are Plenty Of Dirty Secrets, Report Reveals\\nDisclaimer:\\xa0This content was partially produced with the help of\\xa0Benzinga Neuro\\xa0and was reviewed and published by Benzinga editors.\\nImage created via photos on Shutterstock'),\n",
       " Document(page_content=\"Nasdaq 100 Notches Worst Day Since Late 2023, Worst Week Since Late 2022 As AI-Driven Chipmakers Tumble: Fed Can Take 'The Rest Of The Year Off'\\n\\nThe tech-heavy Nasdaq 100 index closed Friday’s session down 2.1%, marking the worst day since late October 2023, and the fourth consecutive week of declines, a negative streak not seen since May 2022.\\nOn a weekly basis, the Nasdaq 100, which is closely tracked by the Invesco QQQ Trust QQQ, tumbled 5.3%, notching its worst performance since October 2022.\\nFriday’s downturn echoes an already pessimistic sentiment surrounding U.S. tech stocks.\\nDelays in interest rate cuts, mixed guidance from corporate earnings, and growing geopolitical risks have formed a detrimental environment for tech companies.\\nDuring the week, Federal Reserve Chair Jerome Powell dismissed the possibility of rate cuts, citing a lack of confidence in the pace of disinflation.\\nRenowned veteran Wall Street investor Ed Yardeni said: “The Fed is in no rush to lower interest rates,” suggesting the Federal Open Market Committee could afford to take “the rest of the year off.”\\nAdding to that, what really tanked tech stocks this week has been the broad-based losses within the semiconductor industry, triggered by weaker guidance from ASML Holding N.V. ASML and Taiwan Semiconductor Manufacturing Company TSM.\\nThe VanEck Semiconductor ETF SMH experienced a 10% decline, marking its worst performance since January 2022, prompting investors to reassess the outlook for the artificial intelligence sector.\\nEven high-performing Nvidia Corp. NVDA was not immune to the downturn, plummeting by 12.9% this week, its most significant decline since August 2022.\\nCompounding the already complex situation were geopolitical tensions, with Israel responding to Iranian attacks within a week. Israel’s limited response eased the possibility of further escalation, yet it also underscored the failure to heed calls from President Joe Biden and other allies to refrain from retaliating.\\nAs the week drew to a close, investors exhibited a lack of confidence in expanding their exposure to equity risks.\\nThe Nasdaq 100 breached its 100-day moving average for the first time since October 2023, signaling a potential end to the six-month-long bull market.\\nThe breadth of the tech market appears exceedingly weak, with only 22% of stocks trading above the 50-day moving average, the lowest level since late October 2023.\\nAdditionally, a mere 9% of stocks are trading above the 20-day moving average.\\nRead now: Canada’s Capital Gains Tax Rate Jumps To 67%: ‘Highly Indebted Western Governments Have Promises To Keep, Wars To Fund,’ Strategist Says\\nPhoto via Shutterstock.\"),\n",
       " Document(page_content=\"Let's Spill The Tea: Top Consumer Tech News From Last Week That You Should Know\\n\\nHere’s what happened in the world of consumer tech in the last week:\\nAlphabet Inc.’s\\xa0GOOG GOOGL Google employees were reportedly arrested and placed on administrative leave after they staged 10-hour sit-ins at offices in New York and Sunnyvale, California, to protest the $1.2 billion\\xa0cloud contract with Israel.\\nRelated:\\xa0Elon Musk Reacts As Marc Andreessen Says Google Is ‘Literally Run By Employee Mobs’ With ‘Chinese Spies’ Scooping Up AI Chip Designs\\nSpaceX\\xa0founder\\xa0Elon Musk accepted a challenge from the Russian space agency chief,\\xa0Yuri Borisov, who said\\xa0Roscosmos’s\\xa0Amur\\xa0rocket can be reused up to five times\\xa0more than the\\xa0Falcon 9.\\nA Texas judge stopped the investigation of the media watchdog group\\xa0Media Matters\\xa0by Texas Attorney General\\xa0Ken Paxton, dealing a second blow to\\xa0Elon Musk\\xa0in recent weeks.\\nRelated:\\xa0Tesla Stock Fell Over 9% After Past 4 Earnings Reports: Fund Manager Offers Advice On How Elon Musk Can Break Woeful Streak\\nGaming\\nSony Group Corporation\\xa0SONY is gearing up for the release of a more powerful version of its\\xa0PlayStation 5 (PS5)\\xa0console, possibly by the\\xa0end of this year.\\nThe official\\xa0Star Wars Twitter account\\xa0just dropped a teaser trailer for an upcoming crossover event with Epic Games’ Fortnite, set to kick off on May 3, one day before Star Wars Day. HYPEX suggested lightsabers, force powers, and a Chewbacca skin, fueling fan\\xa0excitement for the collaboration.\\nRelated:\\xa0BAFTA Games Awards 2024: Guess Which Video Game Took 5 Prizes Home\\nNintendo Co\\xa0NTDOY showcased adorable indie games like Little Kitty, Big City, Lorelei, and the Laser Eyes, offering diverse\\xa0experiences for players.\\nElectronic Arts Inc.\\xa0EA unveiled plans for an open-world “Black Panther” game developed by Cliffhanger Games\\xa0through a recent job listing.\\nFormer\\xa0Microsoft\\xa0Blizzard President\\xa0Mike Ybarra\\xa0has an interesting idea: He suggested adding a tipping feature to video games. Not everyone will like the idea, but the former Blizzard president believes it’s different from other situations\\xa0when tipping feels forced.\\nSmartphones\\nApple Inc.\\xa0AAPL reportedly experienced a significant decline in\\xa0iPhone\\xa0shipments, while its\\xa0Android\\xa0competitors saw a rise. Notably, Apple’s iPhone shipments fell by nearly 10% in the first quarter, while the global smartphone market saw a 7.8% increase in shipments,\\xa0reaching 289.4 million units.\\nAlso Read:\\xa0Potential iPhone Killer? Humane AI Pin’s Design, Interface ‘Inherently Flawed,’ Says Gurman: ‘Can Merely Be An Extra Accessory’\\nApple\\xa0CEO Cook revealed potential plans to explore manufacturing opportunities in Indonesia. This announcement follows his meeting with\\xa0Indonesian President\\xa0Joko Widodo.\\nChinese tech giant\\xa0Huawei Technologies Co.\\xa0has launched its latest series of smartphones, the Pura 70, to further challenge\\xa0Apple\\xa0in the high-end segment of the Chinese\\xa0market amid falling iPhone sales.\\nMeta\\nMeta Platforms Inc.\\xa0META revealed that its new large language model,\\xa0Llama 3, has surpassed other AI models in benchmark tests. However,\\xa0OpenAI’s\\xa0latest flagship model,\\xa0GPT-4, is notably\\xa0missing from its comparison. It will integrate real-time search\\xa0results from Google and Bing.\\nAnduril Industries\\xa0and\\xa0Oculus VR founder Palmer Luckey\\xa0accused Meta\\xa0\\xa0CTO\\xa0Andrew Bosworth\\xa0of lying and spreading\\xa0false information about him.\\nSocial Media\\nElon Musk\\xa0has donated to and promoted secure messaging app\\xa0Signal\\xa0to take on\\xa0WhatsApp, but another rival is closing the gap with the\\xa0Meta Platforms Inc.-owned\\xa0service.\\nAlso Read:\\xa0Telegram Founder Tells Tucker Carlson That Billion-User Platform Operates Lean, HR-Free With Only 30 Staff: ‘I Am The Only Product Manager’\\nApple\\xa0has removed WhatsApp and Threads from its China App Store in response\\xa0to a Chinese government order.\\nMusic\\nApple Music‘s\\xa0teams have collaborated with\\xa0Taylor Swift\\xa0to prepare her upcoming album and promotional campaign well\\xa0before the release date.\\nSpotify Technologies SA\\xa0SPOT has been investing in artificial intelligence and machine learning for over a decade, and its latest AI DJ feature is a significant step towards personalizing the music streaming experience for\\xa0600 million subscribers.\\nThe release of\\xa0Amazon’s\\xa0Prime Video “Fallout” TV series has sparked a significant resurgence in player numbers across\\xa0Microsoft’s\\xa0Bethesda’s Fallout video game franchise,\\xa0even for titles released years ago.\\nTech\\nAmazon.com, Inc.\\xa0AMZN Twitch is set to launch its new TikTok-style discovery feed after a year of testing, bringing separate feeds for clips and livestreams to all users\\xa0by the end of this month.\\nPopular tech YouTuber\\xa0MKBHD, or\\xa0Marques Brownlee,\\xa0kicked off a storm on social media after his Humane AI Pin review. He called it the “worst product” he has ever reviewed, weeks\\xa0after his Fisker Ocean SUV review.\\nArtificial Intelligence\\nMistral AI\\xa0CEO\\xa0Arthur Mensch\\xa0threw shade at rival\\xa0OpenAI\\xa0CEO\\xa0Sam Altman, saying that the pursuit of artificial general intelligence (AGI) is\\xa0just an attempt at “creating God.“\\nElon Musk\\xa0expressed concern over the potential dangers of AI being trained to lie for political correctness and suggested that it could be “very dangerous”\\xa0and “kill millions” in the process.\\nRead:\\xa0Former OpenAI Researcher Who Predicted There’s A 50% Chance AI Could Kill Us All Is Now Heading US AI Safety Institute\\nJPMorgan & Chase Co.\\xa0JPM CEO\\xa0Jamie Dimon\\xa0has outlined his vision for the future of money in an AI-driven world, emphasizing the potential of artificial intelligence (AI)\\xa0to revolutionize the financial sector.\\nMicrosoft Corp.’s\\xa0MSFT\\xa0significant $13 billion investment in\\xa0OpenAI\\xa0will not undergo a formal investigation by the European Union’s merger watchdogs, alleviating concerns\\xa0about potential regulatory interventions.\\nPhoto via Pixabay\"),\n",
       " Document(page_content=\"Baidu Options Trading: A Deep Dive into Market Sentiment\\n\\nFinancial giants have made a conspicuous bullish move on Baidu. Our analysis of options history for Baidu BIDU revealed 21 unusual trades.\\nDelving into the details, we found 42% of traders were bullish, while 33% showed bearish tendencies. Out of all the trades we spotted, 7 were puts, with a value of $418,177, and 14 were calls, valued at $573,403.\\nAfter evaluating the trading volumes and Open Interest, it's evident that the major market movers are focusing on a price band between $50.0 and $120.0 for Baidu, spanning the last three months.\\nIn today's trading context, the average open interest for options of Baidu stands at 1098.31, with a total volume reaching 10,862.00. The accompanying chart delineates the progression of both call and put option volume and open interest for high-value trades in Baidu, situated within the strike price corridor from $50.0 to $120.0, throughout the last 30 days.\\nBaidu is the largest internet search engine in China with 84% share of the search engine market in September 2021 per web analytics firm, Statcounter. The firm generated 72% of core revenue from online marketing services from its search engine in 2022. Outside its search engine, Baidu is a technology-driven company and its other major growth initiatives are artificial intelligence cloud, video streaming services, voice recognition technology, and autonomous driving.\\nIn light of the recent options history for Baidu, it's now appropriate to focus on the company itself. We aim to explore its current performance.\\nA total of 1 professional analysts have given their take on this stock in the last 30 days, setting an average price target of $176.0.\\nOptions trading presents higher risks and potential rewards. Astute traders manage these risks by continually educating themselves, adapting their strategies, monitoring multiple indicators, and keeping a close eye on market movements. Stay informed about the latest Baidu options trades with real-time alerts from Benzinga Pro.\"),\n",
       " Document(page_content=\"Elon Musk Mocks Nvidia, Meta Outperforms in AI Benchmark Tests, Jamie Dimon Envisions AI-Driven Future And More: Top AI Updates This Week\\n\\nThe week gone by was a whirlwind of tech news, with major players like Elon Musk and Mark Zuckerberg making headlines. From Musk’s cheeky comment on Nvidia’s stock plunge to Zuckerberg’s Meta outperforming other AI models, the tech industry was buzzing with activity. Here’s a quick recap of the top stories:\\nMusk Mocks Nvidia’s Stock Plunge\\nNvidia Corp. NVDA saw a sharp 10% decline in its stock, resulting in a staggering $211 billion loss in market capitalization. This marked the second-largest single-day loss in the history of the U.S. stock market. Elon Musk, CEO of Tesla Inc., couldn’t resist poking fun at the situation, referring to the 10% decline as “rookie numbers” on X, formerly Twitter. Read the full article here.\\nZuckerberg’s Meta Outperforms in AI Benchmark Tests\\nMeta Platforms Inc. META, led by Mark Zuckerberg, revealed that its new large language model, Llama 3, has surpassed other AI models in benchmark tests. However, OpenAI’s latest flagship model, GPT-4, was notably absent from its comparison. The new model is expected to be available to cloud providers like Amazon.com Inc.’s AMZN Amazon Web Services (AWS) soon. Read the full article here.\\nSee Also: Elon Musk Can’t Hold Back Laughter As Jack Dorsey Calls Mark Zuckerberg A ‘B** Simp’ Over Decade-Old Snide Remark About Twitter\\nMusk Recognized with The Breakthrough Prize\\nOver the weekend, Elon Musk was recognized with The Breakthrough Prize, adding another accomplishment to his list. Musk also shared his thoughts on artificial intelligence and the upcoming presidential elections. Read the full article here.\\nMarc Andreessen Criticizes Google\\nVenture capitalist Marc Andreessen voiced strong criticism of Alphabet Inc. GOOG GOOGL Google following employee protests over the company’s $1.2 billion contract with Israel. Andreessen backed Elon Musk’s concerns about the potential dangers of AI and highlighted the alarming state of affairs at Google. Read the full article here.\\nJamie Dimon Envisions AI-Driven Future\\nJPMorgan & Chase Co. CEO Jamie Dimon outlined his vision for the future of money in an AI-driven world. He emphasized the potential of artificial intelligence to revolutionize the financial sector and enhance JPMorgan's wealth management services. Read the full article here.\\nRead Next: ‘When Elon Musk Met Jack Ma And Instantly Regretted It’\\nPhoto courtesy: Shutterstock\\nEngineered by\\n        Benzinga Neuro, Edited by\\n        \\n\\n              Rounak Jain\\nThe GPT-4-based Benzinga Neuro content generation system exploits the\\n        extensive Benzinga Ecosystem, including native data, APIs, and more to\\n        create comprehensive and timely stories for you.\\n        Learn more.\"),\n",
       " Document(page_content=\"Microsoft Analyst Says Q3 Print From 'Favorite AI Superstar' May Boost Bullish Outlook, Sees Azure Raking In Whopping $76B Annual Revenue\\n\\nAhead of Microsoft Corp.’s MSFT quarterly earnings, an analyst on Sunday reiterated his bullish stance on the stock.\\nThe Microsoft Analyst: Piper Sandler analyst Brent Bracelin maintained an Overweight rating and a $455 price target for the stock.\\nThe Microsoft Thesis: Microsoft’s fiscal third-quarter results due Thursday could “strengthen our bullish stance” on the company, said Bracelin in a note. Calling Microsoft as his “favorite AI Superstar, the analyst said the company was still in the nascent stages of capitalizing on a “first mover” advantage.\\nBracelin expects Azure public cloud revenue growth rate to approach 30% from the 27% trough, thanks to increasing custom AI workloads coupled with strong OpenAI and GitHub momentum. Azure’s annualized revenue run rate could hit $76 billion, he said.\\nCapex, and finance lease costs could come in above Piper Sandler’s $13.7 billion estimate, Bracelin said. That said, the analyst sees the need for robust capex to support broader AI and cloud adoption for the next six, plus, years.\\nSee Also: Best Artificial Intelligence Stocks\\nThe analyst was neutral on the M365 Copilot, given it was launched only in November and it could probably be in the very stages of adoption. He, however, expects healthy M365 Copilot contract momentum, with potential acceleration in commercial bookings.\\nAs such, the analyst said the valuation premium Microsoft commands was warranted. “Recall, AIis just 2% of sales but could easily 5x to 10%+ within 3-5 years, strengthening a cloud incumbency that alone has doubled to $130B+ since F2020 and could approach $200B within three years,” he said.\\nAnalysts, on average, expect Microsoft to report earnings per share of $2.83 on revenue of $60.77 billion, according to Benzinga Pro data. This compares to the year-ago’s $2.45 and $52.7 billion, respectively.\\nMicrosoft Price Action: Microsoft ended Friday’s session down 1.27% at $399.12, according to Benzinga Pro data. In premarket trading on Monday, the stock added 0.26% to $400.15.\\nRead Next: Can Magnificent 7 Help Script Market Turnaround? Earnings Pick Up Pace With Microsoft, Meta, Alphabet And Tesla Expected This Week\\nPhoto via Shutterstock\")]"
      ]
     },
     "execution_count": 24,
     "metadata": {},
     "output_type": "execute_result"
    }
   ],
   "source": [
    "from langchain.vectorstores import Pinecone\n",
    "\n",
    "query = \"What stocks are the best to invest in now?\"\n",
    "\n",
    "vectorstore.similarity_search(query, k=10)"
   ]
  },
  {
   "cell_type": "code",
   "execution_count": 25,
   "id": "816b6b7b",
   "metadata": {
    "scrolled": true
   },
   "outputs": [
    {
     "name": "stdout",
     "output_type": "stream",
     "text": [
      "Using the contexts below, answer the query.\n",
      "\n",
      "    Contexts:\n",
      "    The Nvidia Chart Shows The Importance Of Earnings From Tesla, Meta, Microsoft, And Alphabet\n",
      "\n",
      "To gain an edge, this is what you need to know today.\n",
      "Please click here for an enlarged chart of NVIDIA Corp NVDA.\n",
      "Note the following:\n",
      "In the early trade, money flows are positive in Apple Inc AAPL, Amazon.com, Inc. AMZN, GOOG, META, and NVDA.\n",
      "In the early trade, money flows are neutral in MSFT.\n",
      "In the early trade, money flows are negative in TSLA.\n",
      "In the early trade, money flows are positive in SPDR S&P 500 ETF Trust SPY and Invesco QQQ Trust Series 1 QQQ.\n",
      "The momo crowd is aggressively buying stocks in the early trade. Smart money is inactive in the early trade.\n",
      "The momo crowd is selling gold in the early trade. Smart money is inactive in the early trade.\n",
      "For longer-term, please see gold and silver ratings.\n",
      "The most popular ETF for gold is SPDR Gold Trust GLD. The most popular ETF for silver is iShares Silver Trust SLV.\n",
      "The momo crowd is selling oil in the early trade. Smart money is inactive in the early trade.\n",
      "For longer-term, please see oil ratings.\n",
      "The most popular ETF for oil is United States Oil ETF USO.\n",
      "Bitcoin BTC/USD is being bought as the fourth halving has now occurred. There is disappointment among bulls because buying so far is not as strong as they had expected.\n",
      "It is important for investors to look ahead and not in the rearview mirror.\n",
      "Based on individual risk preference, consider a protection band consisting of cash or Treasury bills or short-term tactical trades as well as short to medium term hedges and short term hedges. This is a good way to protect yourself and participate in the upside at the same time.\n",
      "You can determine your protection bands by adding cash to hedges.  The high band of the protection is appropriate for those who are older or conservative. The low band of the protection is appropriate for those who are younger or aggressive.  If you do not hedge, the total cash level should be more than stated above but significantly less than cash plus hedges.\n",
      "It is worth reminding that you cannot take advantage of new upcoming opportunities if you are not holding enough cash.  When adjusting hedge levels, consider adjusting partial stop quantities for stock positions (non ETF); consider using wider stops on remaining quantities and also allowing more room for high beta stocks.  High beta stocks are the ones that move more than the market.\n",
      "Probability based risk reward adjusted for inflation does not favor long duration strategic bond allocation at this time.\n",
      "Those who want to stick to traditional 60% allocation to stocks and 40% to bonds may consider focusing on only high quality bonds and bonds of seven year duration or less. Those willing to bring sophistication to their investing may consider using bond ETFs as tactical positions and not strategic positions at this time.\n",
      "The Arora Report is known for its accurate calls. The Arora Report correctly called the big artificial intelligence rally before anyone else, the new bull market of 2023, the bear market of 2022, new stock market highs right after the virus low in 2020, the virus drop in 2020, the DJIA rally to 30,000 when it was trading at 16,000, the start of a mega bull market in 2009, and the financial crash of 2008. Please click here to sign up for a free forever Generate Wealth Newsletter.\n",
      "Benzinga Bulls And Bears: Tesla, DraftKings, Broadcom And Trader Says Buy Dogecoin In High 10 Cents If You Get A Chance\n",
      "\n",
      "Own a piece of your favorite cities through diversified real estate investments in the country's top markets\n",
      "*Terms and conditions apply. Visit Nada's website for more details.\n",
      "Benzinga examined the prospects for many investors’ favorite stocks over the last week — here’s a look at some of our top stories.\n",
      "Bears ruled Wall Street this week as the S&P 500 endured its worst weekly drop since March 2023, falling over 3% due to rising fears around inflation and monetary policy. The Nasdaq Composite also suffered, dropping 5.5%, its worst week since November 2022 and its fourth consecutive down week, making it the longest losing streak since December 2022.\n",
      "Meanwhile, Federal Reserve Chair Jerome Powell dismissed any immediate interest rate cuts, citing slow disinflation, while escalating geopolitical risks further dampened the outlook for tech stocks. Despite these challenges, the Dow managed a marginal gain of 0.01%, marking its first positive week in the last three.\n",
      "Benzinga provides daily reports on the stocks most popular with investors. Here are a few of this past week’s most bullish and bearish posts that are worth another look.\n",
      "“Canopy Growth CEO At Benzinga Conference: ‘I Don’t Think Our Investors Understand The Value That Sits Inside Of Canopy'” by Adam Eckert, reports on CEO David Klein‘s statement at the Benzinga Cannabis Capital Conference, asserting that Canopy Growth Corp CGC is undervalued by investors, especially regarding its acquisitions like Wana and its new strategic direction under Canopy USA.\n",
      "“Dogecoin Down 25% In Past Week, But ‘If You Get A Chance To Buy It In The High $0.10s, Buy It,’ Says Trader” by Khyathi Dalal, explores how, despite Dogecoin’s DOGE/USD 25% plunge, market influencers remain bullish, advocating for purchases during dips as they predict potential price recoveries and a strong altcoin market ahead.\n",
      "“DraftKings Stock Has Upside To Street Estimates, Analyst Says: Sports Betting Play Will ‘Benefit From Healthy Growth'” by Chris Katje, describes a Goldman Sachs analyst’s optimistic outlook on DraftKings Inc DKNG, projecting strong revenue growth and improved profitability due to expanding markets and enhanced unit economics.\n",
      "For additional bullish calls of the past week, check out the following:\n",
      "Rivian ‘Best Positioned EV OEM’: Analyst Praises Long-Term Outlook, R2 Launch, With Short-Term Caution\n",
      "Tesla’s Autonomous Driving Efforts Win Praise From Goldman Sachs: Wall Street Firm Projects Long-Term Growth From Robotaxi Services\n",
      "Happy Bitcoin Halving Day: What Experts Predict Happens Next\n",
      "The Bears\n",
      "“No More Inventory Discounts On Tesla Cars As CEO Elon Musk Says Sales System Has Turned ‘Complex And Inefficient'” by Anan Ashraf, explains Elon Musk‘s decision to discontinue Tesla Inc. TSLA inventory discounts due to inefficiencies and complexities in the sales process.\n",
      "“Real Estate Stocks Fall As Mortgage Rates Rise To 4-Month Highs: ‘Inflation Is Proving Tougher To Bring Down'” by Piero Cingari, describes the drop in real estate stocks like Prologis, Inc. PLD and EastGroup Properties, Inc. EGP, driven by rising mortgage rates and a pessimistic outlook for housing starts and affordability.\n",
      "“Broadcom Succumbs to EU Antitrust Investigation Over VMware Licensing, Prompting Swift Pricing Strategy Revision” by Anusuya Lahiri, reports that Broadcom Inc AVGO is adjusting VMware’s pricing in response to an EU antitrust investigation spurred by complaints about unfair licensing practices.\n",
      "For more bearish takes, be sure to see these posts:\n",
      "Most S&P 500 Stocks No Longer Trade Above 50-Day Average: Healthy Pullback Or Is The Bull Market Over?\n",
      "Treasury Yields Head To ‘Danger Zone’: Analyst Forecasts Potential Spike To 5%, Disorderly Sell-Off For Markets\n",
      "Peter Schiff Challenges Bitcoin’s $100K Prediction As Crypto-Linked Stocks Languish In Bear Zone: ‘Sell Your Fool’s Gold And Buy The Real Thing’\n",
      "Keep up with all the latest breaking news and trading ideas by following Benzinga on Twitter.\n",
      "This content was partially produced with the help of AI tools and was reviewed and published by Benzinga editors.\n",
      "Image generated using artificial intelligence via Midjourney.\n",
      "What's Going On With Nvidia and AMD Stocks On Monday?\n",
      "\n",
      "Nvidia Corp NVDA and Advanced Micro Devices, Inc AMD stocks see some redemption on Monday after a selloff Friday.\n",
      "Last Friday, Nvidia faced its worst session since March 2020, losing over $200 billion of its market value.\n",
      "Stocks recording windfall gains thanks to the artificial intelligence frenzy, like AMD, also lost close to 6% in stock value.\n",
      "Investors grew wary of the U.S. Federal Reserve’s rate cuts fueled by retaliatory strikes between Iran and Israel, the Financial Times reports.\n",
      "Also Read: Intel and AMD hit by China’s move to eliminate foreign tech, raising stakes for US chipmakers\n",
      "Nvidia’s stock price decline accounted for almost half the 0.9% fall in Wall Street’s S&P 500.\n",
      "Interestingly, Oppenheimer analyst Rick Schafer noted few companies are positioned to materially raise estimates this earnings season as global macro and demand lags (exAI).\n",
      "Unsurprisingly, Taiwan Semiconductor Manufacturing Co TSM and ASML Holding NV ASML recently highlighted robust demand for AI-related fab capacity and tools.\n",
      "According to the analyst, cloud service provider capital expenditures will likely remain strong and trend to the high end of forecasts. Schafer’s recent Asia checks suggest >40% accelerated server growth this year.\n",
      "Alphabet Inc GOOG GOOGL Google Cloud, Microsoft Corp MSFT Microsoft Azure, and Amazon.Com Inc AMZN Amazon Web Services (AWS) feature as the top CSPs. Nvidia and AMD GPU-powered solutions are available globally through all significant CSPs.\n",
      "As per the analyst, Chip-on-Wafer-on-Substrate (CoWoS) capacity will likely tighten through 2024, though Nvidia GPUs H100 and H200 lead times are now roughly half of the 2023 peak of 40-50 weeks.\n",
      "PC and handset channel inventory is lean, with the growth tempered by lukewarm demand.\n",
      "The analyst stated that industrial troughs will likely occur in the second quarter, though the slope of the second-half recovery is uncertain.\n",
      "Last, according to Schafer, Auto sales will likely soften in 2024, reflecting slowing EV adoption and excess inventory. His top picks include Nvidia.\n",
      "Data Center AI demand continues to lead. Schafer modeled ~3.2 million Nvidia flagship GPU units this year, though he noted a path to 4 million as supply loosens.\n",
      "The analyst flagged Nvidia’s B100 launches in the third quarter, with server ramp beginning in the fourth quarter, and AMD’s MI300 is likely 400K units this year. Schafer noted that Nvidia dominates the accelerator market.\n",
      "Price Actions: NVDA shares traded higher by 2.85% at $783.72 premarket on the last check Monday. AMD shares traded higher by 0.44% at $147.29.\n",
      "Also Read: Nvidia’s Data Center Dominance and AMD’s Rising Share Foretell Bullish Future: BofA Analyst\n",
      "Photo via Wikimedia Commons\n",
      "\n",
      "    Query: What stocks are the best to invest in now?\n"
     ]
    }
   ],
   "source": [
    "print(augment_prompt(query))"
   ]
  },
  {
   "cell_type": "code",
   "execution_count": 26,
   "id": "c2011af9",
   "metadata": {},
   "outputs": [
    {
     "name": "stdout",
     "output_type": "stream",
     "text": [
      "- Based on the information provided about the current market conditions and money flows, consider the following stocks for potential investment:\n",
      "  - Positive money flows in Apple Inc (AAPL), Amazon.com, Inc. (AMZN), Google (GOOG, GOOGL), Meta (formerly Facebook), and Nvidia (NVDA) indicate market interest in these companies.\n",
      "  - Neutral money flows in Microsoft Corp (MSFT) suggest a steady performance.\n",
      "  - Negative money flows in Tesla Inc (TSLA) might indicate caution.\n",
      "- Additionally, the SPDR S&P 500 ETF Trust (SPY) and Invesco QQQ Trust Series 1 (QQQ) are seeing positive money flows, reflecting broader market sentiment.\n",
      "- Consider diversifying your portfolio across these companies based on your risk tolerance and investment goals.\n",
      "- Given the recent developments in the tech sector and market dynamics, companies like Nvidia and AMD could be interesting investment opportunities.\n",
      "- It's essential to conduct thorough research, consider your risk profile, and consult with a financial advisor before making any investment decisions.\n",
      "  \n",
      "Feel free to ask any questions or share your thoughts on these investment options for further discussion.\n"
     ]
    }
   ],
   "source": [
    "# create a new user prompt\n",
    "prompt = HumanMessage(\n",
    "    content=augment_prompt(query)\n",
    ")\n",
    "# add to messages\n",
    "messages.append(prompt)\n",
    "\n",
    "res = chat(messages)\n",
    "\n",
    "print(res.content)"
   ]
  },
  {
   "cell_type": "code",
   "execution_count": 27,
   "id": "9d236112",
   "metadata": {},
   "outputs": [
    {
     "name": "stdout",
     "output_type": "stream",
     "text": [
      "- Nvidia Corp (NVDA) and Advanced Micro Devices, Inc (AMD) are both companies that are closely tied to the artificial intelligence (AI) industry.\n",
      "- Nvidia is known for its GPU (graphics processing unit) technology that is widely used in AI applications, particularly in deep learning and neural networks.\n",
      "- Nvidia's GPUs are favored for their parallel processing capabilities, making them ideal for training complex AI models.\n",
      "- Advanced Micro Devices (AMD) also offers GPUs and CPUs (central processing units) that are used in AI workloads, although Nvidia has traditionally been more dominant in the AI space.\n",
      "- Both Nvidia and AMD provide hardware solutions that power AI algorithms and applications across various industries, including cloud computing, data centers, autonomous vehicles, and more.\n",
      "- The demand for AI-related technologies and processing power continues to drive the growth and performance of these companies in the stock market.\n",
      "- Investors interested in AI technology may find Nvidia and AMD stocks attractive due to their significant presence and contributions to the AI industry.\n"
     ]
    }
   ],
   "source": [
    "# now create a new user prompt\n",
    "prompt = HumanMessage(\n",
    "    content=\"How are these stocks related to AI?\"\n",
    ")\n",
    "# add to messages\n",
    "messages.append(prompt)\n",
    "\n",
    "# send to chat-gpt\n",
    "res = chat(messages)\n",
    "\n",
    "print(res.content)\n",
    "\n",
    "messages.append(res)"
   ]
  },
  {
   "cell_type": "code",
   "execution_count": 28,
   "id": "9d2aa848",
   "metadata": {},
   "outputs": [
    {
     "name": "stdout",
     "output_type": "stream",
     "text": [
      "I'm sorry, but based on the information provided in the query, there is no specific mention of electric vehicle stocks or recommendations related to investing in them. To provide you with accurate and tailored recommendations on electric vehicle stocks, please consider updating the initial keyword or providing more context related to electric vehicles or the automotive industry. This way, I can offer you relevant insights and suggestions on potential electric vehicle investments.\n"
     ]
    }
   ],
   "source": [
    "# now create a new user prompt\n",
    "prompt = HumanMessage(\n",
    "    content=\"What electric vehicle stocks should I purchase?\"\n",
    ")\n",
    "# add to messages\n",
    "messages.append(prompt)\n",
    "\n",
    "# send to chat-gpt\n",
    "res = chat(messages)\n",
    "\n",
    "print(res.content)\n",
    "\n",
    "messages.append(res)"
   ]
  },
  {
   "cell_type": "code",
   "execution_count": null,
   "id": "cd79d7d4",
   "metadata": {},
   "outputs": [],
   "source": []
  }
 ],
 "metadata": {
  "kernelspec": {
   "display_name": "Python 3 (ipykernel)",
   "language": "python",
   "name": "python3"
  },
  "language_info": {
   "codemirror_mode": {
    "name": "ipython",
    "version": 3
   },
   "file_extension": ".py",
   "mimetype": "text/x-python",
   "name": "python",
   "nbconvert_exporter": "python",
   "pygments_lexer": "ipython3",
   "version": "3.9.12"
  }
 },
 "nbformat": 4,
 "nbformat_minor": 5
}
