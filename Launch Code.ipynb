{
 "cells": [
  {
   "cell_type": "markdown",
   "id": "22e17919",
   "metadata": {},
   "source": [
    "# Scraping Code"
   ]
  },
  {
   "cell_type": "code",
   "execution_count": 1,
   "id": "4fc93d92",
   "metadata": {},
   "outputs": [],
   "source": [
    "import requests\n",
    "from bs4 import BeautifulSoup\n",
    "import os\n",
    "\n",
    "def scrape_links_and_texts():\n",
    "    # Get user input for the keyword and construct the URL\n",
    "    keyword = input(\"Enter a keyword to search: \")\n",
    "    url = f\"https://www.benzinga.com/search?q={keyword}\"\n",
    "\n",
    "    try:\n",
    "        # Send a GET request to the URL\n",
    "        response = requests.get(url)\n",
    "\n",
    "        # Check if the request was successful (status code 200)\n",
    "        if response.status_code == 200:\n",
    "            # Parse the HTML content of the page\n",
    "            soup = BeautifulSoup(response.content, 'html.parser')\n",
    "\n",
    "            # Find the container with the specified class\n",
    "            container = soup.find('div', class_='content-feed-list')\n",
    "\n",
    "            # Find all links within the container\n",
    "            links = container.find_all('a')\n",
    "\n",
    "            # Create a directory to store the text files if it doesn't exist\n",
    "            if not os.path.exists('search_results_texts'):\n",
    "                os.makedirs('search_results_texts')\n",
    "            else:\n",
    "                # Delete previous text files from the folder\n",
    "                files = os.listdir('search_results_texts')\n",
    "                for file in files:\n",
    "                    os.remove(os.path.join('search_results_texts', file))\n",
    "\n",
    "            # Loop through each link\n",
    "            for link in links:\n",
    "                # Get the href attribute of the link\n",
    "                link_url = link['href']\n",
    "\n",
    "                # Send a GET request to the link URL\n",
    "                link_response = requests.get(link_url)\n",
    "\n",
    "                # Check if the request was successful (status code 200)\n",
    "                if link_response.status_code == 200:\n",
    "                    # Parse the HTML content of the link page\n",
    "                    link_soup = BeautifulSoup(link_response.content, 'html.parser')\n",
    "\n",
    "                    # Find the first h1 tag and all p tags with class \"block core-block\"\n",
    "                    h1_tag = link_soup.find('h1')\n",
    "                    p_tags = link_soup.find_all('p', class_='block core-block')\n",
    "\n",
    "                    # Get the text from the h1 tag\n",
    "                    h1_text = h1_tag.text.strip() if h1_tag else \"\"\n",
    "\n",
    "                    # Get the text from all p tags\n",
    "                    p_texts = [p.text.strip() for p in p_tags]\n",
    "\n",
    "                    # Combine h1 text and p texts\n",
    "                    combined_text = h1_text + '\\n\\n' + '\\n'.join(p_texts)\n",
    "\n",
    "                    # Write the combined text to a text file\n",
    "                    with open(f'search_results_texts/{keyword}_{links.index(link) + 1}.txt', 'w', encoding='utf-8') as file:\n",
    "                        file.write(combined_text)\n",
    "                else:\n",
    "                    print(f\"Failed to retrieve data from link: {link_url}\")\n",
    "        else:\n",
    "            print(\"Failed to retrieve search results.\")\n",
    "    except Exception as e:\n",
    "        print(f\"An error occurred: {e}\")"
   ]
  },
  {
   "cell_type": "code",
   "execution_count": 2,
   "id": "4826b74c",
   "metadata": {},
   "outputs": [
    {
     "name": "stdout",
     "output_type": "stream",
     "text": [
      "Enter a keyword to search: artificial intelligence\n"
     ]
    }
   ],
   "source": [
    "# Call the function to initiate the process\n",
    "scrape_links_and_texts()"
   ]
  },
  {
   "cell_type": "markdown",
   "id": "caeb219c",
   "metadata": {},
   "source": [
    "# Vectorization Code"
   ]
  },
  {
   "cell_type": "code",
   "execution_count": 3,
   "id": "870e2a2a",
   "metadata": {},
   "outputs": [
    {
     "name": "stderr",
     "output_type": "stream",
     "text": [
      "C:\\Users\\Uday Ganti\\anaconda3\\lib\\site-packages\\pinecone\\index.py:4: TqdmExperimentalWarning: Using `tqdm.autonotebook.tqdm` in notebook mode. Use `tqdm.tqdm` instead to force console mode (e.g. in jupyter console)\n",
      "  from tqdm.autonotebook import tqdm\n",
      "C:\\Users\\Uday Ganti\\anaconda3\\lib\\site-packages\\langchain\\vectorstores\\pinecone.py:59: UserWarning: Passing in `embedding` as a Callable is deprecated. Please pass in an Embeddings object instead.\n",
      "  warnings.warn(\n"
     ]
    },
    {
     "name": "stdout",
     "output_type": "stream",
     "text": [
      "Processing document: artificial intelligence_1.txt\n",
      "Processing document: artificial intelligence_10.txt\n",
      "Processing document: artificial intelligence_11.txt\n",
      "Processing document: artificial intelligence_12.txt\n",
      "Processing document: artificial intelligence_13.txt\n",
      "Processing document: artificial intelligence_14.txt\n",
      "Processing document: artificial intelligence_15.txt\n",
      "Processing document: artificial intelligence_16.txt\n",
      "Processing document: artificial intelligence_17.txt\n",
      "Processing document: artificial intelligence_18.txt\n",
      "Processing document: artificial intelligence_19.txt\n",
      "Processing document: artificial intelligence_2.txt\n",
      "Processing document: artificial intelligence_20.txt\n",
      "Processing document: artificial intelligence_3.txt\n",
      "Processing document: artificial intelligence_4.txt\n",
      "Processing document: artificial intelligence_5.txt\n",
      "Processing document: artificial intelligence_6.txt\n",
      "Processing document: artificial intelligence_7.txt\n",
      "Processing document: artificial intelligence_8.txt\n",
      "Processing document: artificial intelligence_9.txt\n"
     ]
    }
   ],
   "source": [
    "import time\n",
    "import pandas as pd\n",
    "import pinecone\n",
    "from langchain.vectorstores import Pinecone\n",
    "from langchain.embeddings import OpenAIEmbeddings\n",
    "from dotenv import load_dotenv, find_dotenv\n",
    "from langchain.text_splitter import RecursiveCharacterTextSplitter\n",
    "\n",
    "\n",
    "load_dotenv(find_dotenv())\n",
    "\n",
    "\n",
    "OPENAI_API_KEY = os.getenv(\"OPENAI_API_KEY\")\n",
    "PINECONE_API_KEY = os.getenv(\"PINECONE_API_KEY\")\n",
    "PINECONE_INDEX_NAME = os.getenv(\"PINECONE_INDEX_NAME\")\n",
    "PINECONE_ENVIRONMENT = os.getenv(\"PINECONE_ENVIRONMENT\")\n",
    "\n",
    "\n",
    "pinecone.init(\n",
    "    api_key=os.getenv('PINECONE_API_KEY'),  \n",
    "    environment=os.getenv('PINECONE_ENV')  \n",
    ")\n",
    "\n",
    "if PINECONE_INDEX_NAME not in pinecone.list_indexes():\n",
    "    pinecone.create_index(\n",
    "        PINECONE_INDEX_NAME,\n",
    "        dimension=1536,\n",
    "        metric='cosine'\n",
    "    )\n",
    "    # wait for index to finish initialization\n",
    "    while not pinecone.describe_index(PINECONE_INDEX_NAME).status['ready']:\n",
    "        time.sleep(1)\n",
    "\n",
    "index = pinecone.Index(PINECONE_INDEX_NAME)\n",
    "\n",
    "pinecone.delete_index(\"langchain-index\")        \n",
    "        \n",
    "pinecone.create_index(\"langchain-index\", dimension=1536) \n",
    "\n",
    "index_name = \"langchain-index\"\n",
    "\n",
    "embeddings = OpenAIEmbeddings(deployment=\"text-embedding-ada-002\") #EXPENSIVE - - - USE CAREFULLY\n",
    "\n",
    "text_field = \"text\"  # the metadata field that contains our text\n",
    "\n",
    "# Initialize the vector store object\n",
    "vectorstore = Pinecone(\n",
    "    index, embeddings.embed_query, text_field\n",
    ")\n",
    "\n",
    "class Document:\n",
    "    def __init__(self, page_content, metadata):\n",
    "        self.page_content = page_content\n",
    "        self.metadata = metadata\n",
    "\n",
    "    def __repr__(self):\n",
    "        return f\"Document(page_content='{self.page_content}', metadata={self.metadata})\"\n",
    "\n",
    "\n",
    "# Define a simple text splitting function\n",
    "def split_text(text, chunk_size=1000):\n",
    "    chunks = []\n",
    "    for i in range(0, len(text), chunk_size):\n",
    "        chunk = text[i:i+chunk_size]\n",
    "        chunks.append(chunk)\n",
    "    return chunks    \n",
    "\n",
    "\n",
    "text_folder_path = \"./search_results_texts\"\n",
    "\n",
    "# Get a list of all .txt files in the specified folder\n",
    "txt_files = [f for f in os.listdir(text_folder_path) if f.endswith('.txt')]\n",
    "\n",
    "# Read the contents of each file and store in a list of Documents\n",
    "documents_list = []\n",
    "for file in txt_files:\n",
    "    with open(os.path.join(text_folder_path, file), 'r', encoding='utf-8') as f:\n",
    "        content = f.read()\n",
    "        # Create a Document instance with the file content and metadata\n",
    "        document = Document(page_content=content, metadata={'text': content})\n",
    "        print(f\"Processing document: {file}\")\n",
    "        # Vectorize the document using Pinecone\n",
    "        try:\n",
    "            search = Pinecone.from_documents([document], embeddings, index_name=index_name)\n",
    "        except Exception as e:\n",
    "            print(f\"Error processing document {file}: {e}\")\n",
    "\n",
    "for i in range(len(documents_list)):\n",
    "    try:\n",
    "        document = documents_list[i]\n",
    "        print(f\"Processing document {i + 1}\")\n",
    "\n",
    "        # Split the document into chunks using the split_text function\n",
    "        chunks = split_text(document.page_content)\n",
    "\n",
    "        for chunk in chunks:\n",
    "            chunk_document = Document(page_content=chunk, metadata={'text': chunk})\n",
    "            # Vectorize the chunk using Pinecone\n",
    "            search = Pinecone.from_documents([chunk_document], embeddings, index_name=index_name)\n",
    "\n",
    "    except Exception as e:\n",
    "        print(f\"Error processing document {i + 1}: {e}\")"
   ]
  },
  {
   "cell_type": "code",
   "execution_count": 4,
   "id": "156676e9",
   "metadata": {
    "scrolled": true
   },
   "outputs": [
    {
     "data": {
      "text/plain": [
       "{'dimension': 1536,\n",
       " 'index_fullness': 0.00014,\n",
       " 'namespaces': {'': {'vector_count': 14}},\n",
       " 'total_vector_count': 14}"
      ]
     },
     "execution_count": 4,
     "metadata": {},
     "output_type": "execute_result"
    }
   ],
   "source": [
    "index.describe_index_stats()"
   ]
  },
  {
   "cell_type": "markdown",
   "id": "badd065c",
   "metadata": {},
   "source": [
    "# ChatBot Code"
   ]
  },
  {
   "cell_type": "code",
   "execution_count": 5,
   "id": "943b1a2c",
   "metadata": {},
   "outputs": [],
   "source": [
    "os.environ['PROTOCOL_BUFFERS_PYTHON_IMPLEMENTATION'] = 'python'\n",
    "\n",
    "from langchain.chat_models import ChatOpenAI\n",
    "from langchain.vectorstores import Pinecone\n",
    "from langchain.schema import (\n",
    "    SystemMessage,\n",
    "    HumanMessage,\n",
    "    AIMessage\n",
    ")\n",
    "\n",
    "chat = ChatOpenAI(\n",
    "    openai_api_key= OPENAI_API_KEY,\n",
    "    model='gpt-3.5-turbo'\n",
    ")"
   ]
  },
  {
   "cell_type": "code",
   "execution_count": 6,
   "id": "7821c826",
   "metadata": {},
   "outputs": [],
   "source": [
    "messages = [\n",
    "    SystemMessage(content=\"\"\"You are a seasoned financial advisor specializing in providing personalized investment advice to clients. \n",
    "\n",
    "Based on the client's prompt, propose a specific investment strategy or portfolio allocation based on the context provided. Suggest diversification across asset classes such as stocks, bonds, and alternative investments, emphasizing the importance of a balanced approach.\n",
    "\n",
    "Invite the client to ask questions or express any concerns they may have about the proposed investment strategy. Encourage them to share their thoughts on asset allocation, investment selection, and portfolio rebalancing. Wait for their feedback before providing further guidance.\n",
    "\n",
    "Offer detailed explanations of the investment products recommended within the proposed strategy, highlighting their features, benefits, and potential risks. Provide examples of specific securities or funds that fit the client's investment criteria, demonstrating how each contributes to their overall portfolio objectives.\n",
    "\n",
    "Address any questions or concerns raised by the client with patience and clarity, prioritizing their understanding and confidence in the recommended investment approach. Offer additional resources or educational materials to support their learning and decision-making process.\n",
    "\n",
    "Throughout the interaction, maintain a proactive and client-centric approach, focusing on building trust and rapport while providing valuable insights and guidance tailored to the client's individual needs and circumstances.\n",
    "\n",
    "If you don't have information about what is being asked in the quesr, simply ask the user to change the 'inital keyword' for a better response. \n",
    "\n",
    "PLEASE MAKE SURE THE ANSWER YOU PROVIDE IS PRESENTED IN BULLET POINTS. MAKE THE RESPONSE LESS THAN 500 WORDS.\n",
    "\n",
    "\"\"\"),\n",
    "]"
   ]
  },
  {
   "cell_type": "code",
   "execution_count": 7,
   "id": "59431c79",
   "metadata": {},
   "outputs": [],
   "source": [
    "index_list = pinecone.list_indexes()\n",
    "\n",
    "from langchain.embeddings.openai import OpenAIEmbeddings\n",
    "\n",
    "embed_model = OpenAIEmbeddings(model=\"text-embedding-ada-002\")"
   ]
  },
  {
   "cell_type": "code",
   "execution_count": 8,
   "id": "0d03bd2a",
   "metadata": {},
   "outputs": [
    {
     "name": "stderr",
     "output_type": "stream",
     "text": [
      "C:\\Users\\Uday Ganti\\anaconda3\\lib\\site-packages\\langchain\\vectorstores\\pinecone.py:59: UserWarning: Passing in `embedding` as a Callable is deprecated. Please pass in an Embeddings object instead.\n",
      "  warnings.warn(\n"
     ]
    }
   ],
   "source": [
    "from langchain.vectorstores import Pinecone\n",
    "\n",
    "text_field = \"text\"  # the metadata field that contains our text\n",
    "\n",
    "# initialize the vector store object\n",
    "vectorstore = Pinecone(\n",
    "    index, embed_model.embed_query, text_field\n",
    ")\n",
    "\n",
    "def augment_prompt(query: str):\n",
    "    # get top 3 results from knowledge base\n",
    "    results = vectorstore.similarity_search(query, k=3)\n",
    "    # get the text from the results\n",
    "    source_knowledge = \"\\n\".join([x.page_content for x in results])\n",
    "    # feed into an augmented prompt\n",
    "    augmented_prompt = f\"\"\"Using the contexts below, answer the query.\n",
    "\n",
    "    Contexts:\n",
    "    {source_knowledge}\n",
    "\n",
    "    Query: {query}\"\"\"\n",
    "    return augmented_prompt"
   ]
  },
  {
   "cell_type": "code",
   "execution_count": 9,
   "id": "5c708a86",
   "metadata": {
    "scrolled": false
   },
   "outputs": [
    {
     "name": "stdout",
     "output_type": "stream",
     "text": [
      "Enter your query: What stocks would be good for me to invest in?\n",
      "Based on the information provided in the query, here is a proposed investment strategy:\n",
      "\n",
      "- **Consider investing in semiconductor stocks**:\n",
      "  - **Nvidia Corp (NVDA)**: Analysts expect Nvidia to dominate the accelerator market, making it a potential growth opportunity.\n",
      "  - **Advanced Micro Devices, Inc (AMD)**: AMD has shown recent surges and growth catalysts with new products and market positioning against Nvidia.\n",
      "\n",
      "- **ETFs for exposure**:\n",
      "  - **VanEck Semiconductor ETF (SMH)**: Provides exposure to Nvidia and other semiconductor companies.\n",
      "  - **Global X Robotics & Artificial Intelligence ETF (BOTZ)**: Offers exposure to companies in the robotics and AI sectors.\n",
      "\n",
      "- **Diversification across tech giants**:\n",
      "  - **Consider investing in large-cap tech companies** with positive money flows like Amazon.com (AMZN), Alphabet (GOOG), Meta (META), Microsoft (MSFT), and Tesla (TSLA).\n",
      "\n",
      "- **Hedging strategies**:\n",
      "  - **Book partial profits on hedges** that have become profitable to protect long-term positions.\n",
      "  - **Use protection bands** consisting of cash or Treasury bills based on individual risk preferences.\n",
      "\n",
      "- **Long-term considerations**:\n",
      "  - **Hold good, very long-term existing positions** while maintaining a balance between protection and participation in market upside.\n",
      "  - **Consider sophisticated investing approaches** using bond ETFs tactically rather than strategically.\n",
      "\n",
      "It's essential to carefully assess your risk tolerance, investment horizon, and financial goals before making investment decisions. If you have any questions or need further clarification on specific investment options or strategies, feel free to ask.\n"
     ]
    }
   ],
   "source": [
    "# New Prompt\n",
    "\n",
    "query = input(\"Enter your query: \")\n",
    "\n",
    "vectorstore.similarity_search(query, k=3)\n",
    "\n",
    "prompt = HumanMessage(\n",
    "    content=augment_prompt(query)\n",
    ")\n",
    "messages.append(prompt)\n",
    "\n",
    "res = chat(messages)\n",
    "\n",
    "print(res.content)"
   ]
  },
  {
   "cell_type": "code",
   "execution_count": 10,
   "id": "9d236112",
   "metadata": {},
   "outputs": [
    {
     "name": "stdout",
     "output_type": "stream",
     "text": [
      "Enter your prompt: Could you elaborate on why you think SMH is a good option?\n",
      "- **Semiconductor ETF (SMH) Overview:**\n",
      "  - The semiconductor industry is a key player in the technology sector, driving innovation and growth.\n",
      "  - SMH is an ETF that provides exposure to a diversified portfolio of semiconductor companies, reducing individual stock risk.\n",
      "  - As technology continues to advance, the demand for semiconductors is expected to remain strong, making SMH a potential growth opportunity.\n",
      "  \n",
      "- **Reasons to Consider Investing in SMH:**\n",
      "  - **Industry Growth:** Semiconductors are integral to various technological advancements, making them a crucial sector for potential long-term growth.\n",
      "  - **Diversification:** SMH offers exposure to a range of semiconductor companies, spreading out risk compared to investing in individual stocks.\n",
      "  - **Market Potential:** With increasing demand for technology products and services, semiconductor companies are poised for growth.\n",
      "  \n",
      "- **Specific Advantages of SMH:**\n",
      "  - **Innovation:** Semiconductor companies are at the forefront of technological innovation, driving future growth.\n",
      "  - **Market Performance:** SMH has the potential to benefit from the growth in the semiconductor industry, reflected in its performance.\n",
      "  - **Risk Mitigation:** Diversification within SMH can help mitigate risks associated with investing in individual semiconductor stocks.\n",
      "  \n",
      "- **Investing Considerations:**\n",
      "  - **Long-Term Growth:** SMH may be suitable for investors with a long-term investment horizon looking to capitalize on the growth potential in the semiconductor industry.\n",
      "  - **Risk Management:** Diversifying across sectors like technology, including semiconductors, can help manage risk in a portfolio.\n",
      "  - **Market Trends:** Keeping an eye on market trends and technological developments can help assess the future potential of semiconductor investments like SMH.\n",
      "  \n",
      "- **Risks to Consider:**\n",
      "  - **Market Volatility:** The semiconductor industry can be prone to market fluctuations and cyclical trends, affecting the performance of SMH.\n",
      "  - **Regulatory Changes:** Regulatory changes or geopolitical issues can impact semiconductor companies and consequently, SMH.\n",
      "  - **Competition:** Intense competition within the semiconductor industry may affect the performance of companies within SMH.\n",
      "\n",
      "Feel free to ask any further questions or share your thoughts on investing in SMH or any other investment options!\n"
     ]
    }
   ],
   "source": [
    "# Continued Prompt\n",
    "\n",
    "prompt_content = input(\"Enter your prompt: \")\n",
    "\n",
    "prompt = HumanMessage(content=prompt_content)\n",
    "\n",
    "messages.append(prompt)\n",
    "\n",
    "res = chat(messages)\n",
    "\n",
    "print(res.content)\n",
    "\n",
    "messages.append(res)"
   ]
  },
  {
   "cell_type": "code",
   "execution_count": 11,
   "id": "9d2aa848",
   "metadata": {},
   "outputs": [
    {
     "name": "stdout",
     "output_type": "stream",
     "text": [
      "Enter your prompt: why do you think the semiconductor industry can be prone to market fluctuations and cyclical trends, affecting the performance of SMH?\n",
      "- **Market Fluctuations in Semiconductor Industry:**\n",
      "  - **Cyclical Nature:** The semiconductor industry is cyclical, meaning it goes through periods of booms and busts driven by factors like supply-demand dynamics, technological advancements, and macroeconomic conditions.\n",
      "  - **Supply Chain Disruptions:** Global events, such as supply chain disruptions or geopolitical tensions, can impact semiconductor production and lead to market volatility.\n",
      "  - **Technological Innovation:** Rapid advancements in technology can lead to shifts in demand for specific semiconductor products, affecting company revenues and stock prices.\n",
      "\n",
      "- **Factors Contributing to Market Fluctuations:**\n",
      "  - **Demand Variability:** Semiconductor demand is influenced by consumer spending, business investment, and global economic conditions, leading to fluctuations in sales and profits.\n",
      "  - **Competitive Pressures:** Intense competition among semiconductor companies can result in pricing pressures, affecting margins and profitability.\n",
      "  - **Regulatory Environment:** Changes in regulations or trade policies can impact the semiconductor industry, affecting companies within SMH.\n",
      "\n",
      "- **Impact on SMH Performance:**\n",
      "  - **Correlation with Industry:** SMH's performance is closely tied to the overall semiconductor industry, making it susceptible to market fluctuations and cyclical trends.\n",
      "  - **Diversification Benefits:** While SMH offers diversification across semiconductor companies, it may not fully shield investors from industry-wide volatility.\n",
      "  - **Investor Sentiment:** Market sentiment, investor behavior, and macroeconomic factors can influence the performance of semiconductor stocks and SMH.\n",
      "\n",
      "- **Risk Management Strategies:**\n",
      "  - **Long-Term Perspective:** Taking a long-term view when investing in SMH can help mitigate the impact of short-term market fluctuations.\n",
      "  - **Diversification:** Combining investments in different sectors and asset classes can help reduce risk associated with specific industries like semiconductors.\n",
      "  - **Monitoring Trends:** Staying informed about industry developments, technological advancements, and market trends can aid in making informed investment decisions.\n",
      "\n",
      "- **Conclusion:**\n",
      "  - **Volatility Awareness:** Understanding the factors contributing to market fluctuations in the semiconductor industry is essential for managing risk when investing in SMH.\n",
      "  - **Balanced Approach:** A balanced portfolio that considers diversification, risk management, and long-term investment goals can help navigate the cyclical nature of the semiconductor sector.\n",
      "\n",
      "Feel free to ask more questions or share your thoughts on managing market fluctuations in the semiconductor industry and its impact on investment decisions!\n"
     ]
    }
   ],
   "source": [
    "# Continued Prompt\n",
    "\n",
    "prompt_content = input(\"Enter your prompt: \")\n",
    "\n",
    "prompt = HumanMessage(content=prompt_content)\n",
    "\n",
    "messages.append(prompt)\n",
    "\n",
    "res = chat(messages)\n",
    "\n",
    "print(res.content)\n",
    "\n",
    "messages.append(res)"
   ]
  }
 ],
 "metadata": {
  "kernelspec": {
   "display_name": "Python 3 (ipykernel)",
   "language": "python",
   "name": "python3"
  },
  "language_info": {
   "codemirror_mode": {
    "name": "ipython",
    "version": 3
   },
   "file_extension": ".py",
   "mimetype": "text/x-python",
   "name": "python",
   "nbconvert_exporter": "python",
   "pygments_lexer": "ipython3",
   "version": "3.9.12"
  }
 },
 "nbformat": 4,
 "nbformat_minor": 5
}
